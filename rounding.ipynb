{
 "cells": [
  {
   "cell_type": "markdown",
   "id": "3802c16e",
   "metadata": {},
   "source": [
    "# Rounding with Function Calls"
   ]
  },
  {
   "cell_type": "markdown",
   "id": "05a4d111",
   "metadata": {},
   "source": [
    "These exercises give you practice calling functions in Python."
   ]
  },
  {
   "cell_type": "code",
   "execution_count": null,
   "id": "eda7f550",
   "metadata": {},
   "outputs": [],
   "source": [
    "# Run this cell to set up the notebook, but please don't change it.\n",
    "# These lines load the tests.\n",
    "from client.api.notebook import Notebook\n",
    "ok = Notebook('rounding.ok')"
   ]
  },
  {
   "cell_type": "markdown",
   "id": "7a016551",
   "metadata": {},
   "source": [
    "**Question 1.** Using the function `round`, round the number 1.23456789 to the nearest integer.  Give the result the name `rounded`."
   ]
  },
  {
   "cell_type": "code",
   "execution_count": null,
   "id": "08ca67bc",
   "metadata": {},
   "outputs": [],
   "source": [
    "rounded = ...\n",
    "rounded"
   ]
  },
  {
   "cell_type": "code",
   "execution_count": null,
   "id": "90c0f22c",
   "metadata": {},
   "outputs": [],
   "source": [
    "_ = ok.grade('q1')"
   ]
  },
  {
   "cell_type": "markdown",
   "id": "340c4d6d",
   "metadata": {},
   "source": [
    "**Question 2.** Round 1.23456789 to the nearest *thousandth* (.001).  Put the\n",
    "*result into the variable `less_rounded`.\n",
    "\n",
    "*Hint:* Running `round?` in a code cell will show you Python's documentation for the `round` function."
   ]
  },
  {
   "cell_type": "code",
   "execution_count": null,
   "id": "dca39ac2",
   "metadata": {},
   "outputs": [],
   "source": [
    "less_rounded = ...\n",
    "less_rounded"
   ]
  },
  {
   "cell_type": "code",
   "execution_count": null,
   "id": "55e3bbd5",
   "metadata": {},
   "outputs": [],
   "source": [
    "_ = ok.grade('q2')"
   ]
  },
  {
   "cell_type": "markdown",
   "id": "f7f0dfc8",
   "metadata": {},
   "source": [
    "Suppose you're counting all the small donations made to a political candidate.  The donations were:\n",
    "\n",
    "* 32.25\n",
    "* 15.00\n",
    "* 24.45\n",
    "\n",
    "You need to report the total rounded to the nearest dollar.\n",
    "\n",
    "**Question 3.** First you decide to round *each donation* individually and then add up those 3 rounded amounts.  Compute that."
   ]
  },
  {
   "cell_type": "code",
   "execution_count": null,
   "id": "df3cb97d",
   "metadata": {},
   "outputs": [],
   "source": [
    "sum_of_rounded_amounts = ...\n",
    "sum_of_rounded_amounts"
   ]
  },
  {
   "cell_type": "code",
   "execution_count": null,
   "id": "eb953d3a",
   "metadata": {},
   "outputs": [],
   "source": [
    "_ = ok.grade('q3')"
   ]
  },
  {
   "cell_type": "markdown",
   "id": "f7a0f757",
   "metadata": {},
   "source": [
    "**Question 4.** You suspect this method doesn't work quite right.  To check, you decide to try a different method: Adding up the donations, and then rounding the total.  Compute that."
   ]
  },
  {
   "cell_type": "code",
   "execution_count": null,
   "id": "b92fec0d",
   "metadata": {},
   "outputs": [],
   "source": [
    "rounded_sum = ...\n",
    "rounded_sum"
   ]
  },
  {
   "cell_type": "code",
   "execution_count": null,
   "id": "b5dcf175",
   "metadata": {},
   "outputs": [],
   "source": [
    "_ = ok.grade('q4')"
   ]
  },
  {
   "cell_type": "code",
   "execution_count": null,
   "id": "e5a21862",
   "metadata": {},
   "outputs": [],
   "source": [
    "# For your convenience, you can run this cell to run all the tests at once!\n",
    "import os\n",
    "_ = [ok.grade(q[:-3]) for q in os.listdir(\"tests\") if q.startswith('q')]"
   ]
  }
 ],
 "metadata": {
  "jupytext": {
   "split_at_heading": true,
   "text_representation": {
    "extension": ".Rmd",
    "format_name": "rmarkdown",
    "format_version": "1.2",
    "jupytext_version": "1.10.3"
   }
  },
  "kernelspec": {
   "display_name": "Python 3 (ipykernel)",
   "language": "python",
   "name": "python3"
  }
 },
 "nbformat": 4,
 "nbformat_minor": 5
}
